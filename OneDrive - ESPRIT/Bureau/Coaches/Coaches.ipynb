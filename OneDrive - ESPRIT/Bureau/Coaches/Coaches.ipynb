{
 "cells": [
  {
   "cell_type": "code",
   "execution_count": 56,
   "id": "daccf45d",
   "metadata": {},
   "outputs": [],
   "source": [
    "import pandas as pd\n",
    "import numpy as np\n",
    "import matplotlib.pyplot as plt  # Ajout de l'import pour plt\n",
    "import seaborn as sns\n",
    "from datetime import datetime"
   ]
  },
  {
   "cell_type": "markdown",
   "id": "b4118af0",
   "metadata": {},
   "source": [
    "# **1. Data Understanding**\n"
   ]
  },
  {
   "cell_type": "markdown",
   "id": "5ee7525f",
   "metadata": {},
   "source": [
    " Loading, inspecting, and identifying missing or duplicate data."
   ]
  },
  {
   "cell_type": "markdown",
   "id": "82eb6f84",
   "metadata": {},
   "source": [
    "## Step 1: Load the dataset\n",
    " We start by loading the dataset containing club statistics."
   ]
  },
  {
   "cell_type": "code",
   "execution_count": null,
   "id": "106a8c30",
   "metadata": {},
   "outputs": [],
   "source": [
    "# Charger votre dataset (remplacez par le chemin de votre fichier)\n",
    "df = pd.read_csv('C:\\\\Users\\\\MSI\\\\OneDrive - ESPRIT\\\\Bureau\\\\all_coaches.csv')"
   ]
  },
  {
   "cell_type": "markdown",
   "id": "ee5b3df9",
   "metadata": {},
   "source": [
    "### Dataset First View"
   ]
  },
  {
   "cell_type": "code",
   "execution_count": 58,
   "id": "d488940a",
   "metadata": {},
   "outputs": [
    {
     "name": "stdout",
     "output_type": "stream",
     "text": [
      "                   name          club  birth_date   age place_of_birth  \\\n",
      "0         Pep Guardiola      Man City  1971-01-18  50.0      Santpedor   \n",
      "1  Ole Gunnar Solskjaer  Without Club  1973-02-26  48.0   Kristiansund   \n",
      "2         Thomas Tuchel       Chelsea  1973-08-29  48.0       Krumbach   \n",
      "3          Jürgen Klopp     Liverpool  1967-06-16  54.0      Stuttgart   \n",
      "4   Nuno Espírito Santo  Without Club  1974-01-25  47.0       São Tomé   \n",
      "\n",
      "  citizenship appointment_date contract_until_date   coaching_licence  \\\n",
      "0       Spain       2016-07-01          2023-06-30                SEG   \n",
      "1      Norway              NaN                 NaN      Jim Solbakken   \n",
      "2     Germany       2021-01-26          2024-06-30  Dr. Olaf Meinking   \n",
      "3     Germany       2015-10-08          2024-06-30   UEFA Pro Licence   \n",
      "4    Portugal              NaN                 NaN          Gestifute   \n",
      "\n",
      "  avg_term_as_coach preffered_formation  current_league current_league_country  \n",
      "0        3.38 Years     4-3-3 Attacking  Premier League                England  \n",
      "1        2.05 Years             4-2-3-1  Premier League                England  \n",
      "2        2.28 Years             3-4-2-1  Premier League                England  \n",
      "3        5.40 Years     4-3-3 Attacking  Premier League                England  \n",
      "4        1.76 Years               3-4-3  Premier League                England  \n"
     ]
    }
   ],
   "source": [
    "# Dataset First Look\n",
    "print(df.head())\n"
   ]
  },
  {
   "cell_type": "markdown",
   "id": "1e7d6036",
   "metadata": {},
   "source": [
    "### Dataset Rows & Columns count"
   ]
  },
  {
   "cell_type": "code",
   "execution_count": 59,
   "id": "6d36784d",
   "metadata": {},
   "outputs": [
    {
     "name": "stdout",
     "output_type": "stream",
     "text": [
      "(99, 13)\n"
     ]
    }
   ],
   "source": [
    "# Dataset Rows & Columns count\n",
    "print(df.shape)"
   ]
  },
  {
   "cell_type": "markdown",
   "id": "c7a9f4a1",
   "metadata": {},
   "source": [
    "### Dataset Information"
   ]
  },
  {
   "cell_type": "code",
   "execution_count": 60,
   "id": "b5a1ba2a",
   "metadata": {},
   "outputs": [
    {
     "name": "stdout",
     "output_type": "stream",
     "text": [
      "<class 'pandas.core.frame.DataFrame'>\n",
      "RangeIndex: 99 entries, 0 to 98\n",
      "Data columns (total 13 columns):\n",
      " #   Column                  Non-Null Count  Dtype  \n",
      "---  ------                  --------------  -----  \n",
      " 0   name                    99 non-null     object \n",
      " 1   club                    96 non-null     object \n",
      " 2   birth_date              96 non-null     object \n",
      " 3   age                     96 non-null     float64\n",
      " 4   place_of_birth          96 non-null     object \n",
      " 5   citizenship             96 non-null     object \n",
      " 6   appointment_date        83 non-null     object \n",
      " 7   contract_until_date     82 non-null     object \n",
      " 8   coaching_licence        96 non-null     object \n",
      " 9   avg_term_as_coach       96 non-null     object \n",
      " 10  preffered_formation     95 non-null     object \n",
      " 11  current_league          96 non-null     object \n",
      " 12  current_league_country  96 non-null     object \n",
      "dtypes: float64(1), object(12)\n",
      "memory usage: 10.2+ KB\n"
     ]
    }
   ],
   "source": [
    "# Dataset Info\n",
    "df.info()"
   ]
  },
  {
   "cell_type": "markdown",
   "id": "9efc4523",
   "metadata": {},
   "source": [
    "### Variables Description"
   ]
  },
  {
   "cell_type": "code",
   "execution_count": 78,
   "id": "a6a7ac76",
   "metadata": {},
   "outputs": [
    {
     "data": {
      "text/plain": [
       "1"
      ]
     },
     "execution_count": 78,
     "metadata": {},
     "output_type": "execute_result"
    }
   ],
   "source": [
    "# Dataset Duplicate Value Count\n",
    "df.duplicated().sum()"
   ]
  },
  {
   "cell_type": "markdown",
   "id": "48a42a81",
   "metadata": {},
   "source": [
    "#### Missing Values/Null Values"
   ]
  },
  {
   "cell_type": "code",
   "execution_count": 76,
   "id": "a89edbe3",
   "metadata": {},
   "outputs": [
    {
     "data": {
      "text/plain": [
       "name                       0\n",
       "club                       3\n",
       "birth_date                 3\n",
       "age                        3\n",
       "place_of_birth             3\n",
       "citizenship                3\n",
       "appointment_date          16\n",
       "contract_until_date       17\n",
       "coaching_licence           3\n",
       "avg_term_as_coach          3\n",
       "preffered_formation        4\n",
       "current_league             3\n",
       "current_league_country     3\n",
       "dtype: int64"
      ]
     },
     "execution_count": 76,
     "metadata": {},
     "output_type": "execute_result"
    }
   ],
   "source": [
    "# Missing Values/Null Values Count\n",
    "\n",
    "df.isnull().sum()"
   ]
  },
  {
   "cell_type": "markdown",
   "id": "2cc957e6",
   "metadata": {},
   "source": [
    "### ***2.2 Understanding Our Variables***"
   ]
  },
  {
   "cell_type": "code",
   "execution_count": 70,
   "id": "b897dc82",
   "metadata": {},
   "outputs": [
    {
     "data": {
      "text/plain": [
       "Index(['name', 'club', 'birth_date', 'age', 'place_of_birth', 'citizenship',\n",
       "       'appointment_date', 'contract_until_date', 'coaching_licence',\n",
       "       'avg_term_as_coach', 'preffered_formation', 'current_league',\n",
       "       'current_league_country'],\n",
       "      dtype='object')"
      ]
     },
     "execution_count": 70,
     "metadata": {},
     "output_type": "execute_result"
    }
   ],
   "source": [
    "# Dataset Columns\n",
    "df.columns"
   ]
  },
  {
   "cell_type": "code",
   "execution_count": 75,
   "id": "19b0b50a",
   "metadata": {},
   "outputs": [
    {
     "data": {
      "text/html": [
       "<div>\n",
       "<style scoped>\n",
       "    .dataframe tbody tr th:only-of-type {\n",
       "        vertical-align: middle;\n",
       "    }\n",
       "\n",
       "    .dataframe tbody tr th {\n",
       "        vertical-align: top;\n",
       "    }\n",
       "\n",
       "    .dataframe thead th {\n",
       "        text-align: right;\n",
       "    }\n",
       "</style>\n",
       "<table border=\"1\" class=\"dataframe\">\n",
       "  <thead>\n",
       "    <tr style=\"text-align: right;\">\n",
       "      <th></th>\n",
       "      <th>age</th>\n",
       "    </tr>\n",
       "  </thead>\n",
       "  <tbody>\n",
       "    <tr>\n",
       "      <th>count</th>\n",
       "      <td>96.000000</td>\n",
       "    </tr>\n",
       "    <tr>\n",
       "      <th>mean</th>\n",
       "      <td>51.364583</td>\n",
       "    </tr>\n",
       "    <tr>\n",
       "      <th>std</th>\n",
       "      <td>7.384364</td>\n",
       "    </tr>\n",
       "    <tr>\n",
       "      <th>min</th>\n",
       "      <td>34.000000</td>\n",
       "    </tr>\n",
       "    <tr>\n",
       "      <th>25%</th>\n",
       "      <td>46.000000</td>\n",
       "    </tr>\n",
       "    <tr>\n",
       "      <th>50%</th>\n",
       "      <td>50.000000</td>\n",
       "    </tr>\n",
       "    <tr>\n",
       "      <th>75%</th>\n",
       "      <td>57.000000</td>\n",
       "    </tr>\n",
       "    <tr>\n",
       "      <th>max</th>\n",
       "      <td>70.000000</td>\n",
       "    </tr>\n",
       "  </tbody>\n",
       "</table>\n",
       "</div>"
      ],
      "text/plain": [
       "             age\n",
       "count  96.000000\n",
       "mean   51.364583\n",
       "std     7.384364\n",
       "min    34.000000\n",
       "25%    46.000000\n",
       "50%    50.000000\n",
       "75%    57.000000\n",
       "max    70.000000"
      ]
     },
     "execution_count": 75,
     "metadata": {},
     "output_type": "execute_result"
    }
   ],
   "source": [
    "# Dataset Describe\n",
    "df.describe()"
   ]
  },
  {
   "cell_type": "markdown",
   "id": "48bb5f2e",
   "metadata": {},
   "source": [
    "### Variables Description"
   ]
  },
  {
   "cell_type": "markdown",
   "id": "eea0d0dd",
   "metadata": {},
   "source": [
    ".name : Nom de l'entraîneur\n",
    "\n",
    ".club : Club actuel de l'entraîneur (ou \"Without Club\" s'il n'a pas de club)\n",
    "\n",
    ".birth_date : Date de naissance de l'entraîneur\n",
    "\n",
    ".age : Âge de l'entraîneur\n",
    "\n",
    ".place_of_birth : Ville ou région de naissance de l'entraîneur\n",
    "\n",
    ".citizenship : Nationalité de l'entraîneur\n",
    "\n",
    ".appointment_date : Date de nomination à son poste actuel\n",
    "\n",
    ".contract_until_date : Date d'expiration du contrat actuel\n",
    "\n",
    ".coaching_licence : Licence d'entraîneur détenue (ex : UEFA Pro Licence)\n",
    "\n",
    ".avg_term_as_coach : Durée moyenne passée en tant qu'entraîneur (en années)\n",
    "\n",
    ".preffered_formation : Formation tactique préférée (ex : 4-2-3-1)\n",
    "\n",
    ".current_league : Ligue dans laquelle l'entraîneur travaille actuellement (ex : Serie A)\n",
    "\n",
    ".current_league_country : Pays de la ligue actuelle\n"
   ]
  },
  {
   "cell_type": "markdown",
   "id": "b55d990d",
   "metadata": {},
   "source": [
    "### Check Unique Values for each variable."
   ]
  },
  {
   "cell_type": "code",
   "execution_count": 79,
   "id": "974de231",
   "metadata": {},
   "outputs": [
    {
     "name": "stdout",
     "output_type": "stream",
     "text": [
      "No. of unique values in  name is 98\n",
      "No. of unique values in  club is 83\n",
      "No. of unique values in  birth_date is 95\n",
      "No. of unique values in  age is 27\n",
      "No. of unique values in  place_of_birth is 87\n",
      "No. of unique values in  citizenship is 19\n",
      "No. of unique values in  appointment_date is 60\n",
      "No. of unique values in  contract_until_date is 5\n",
      "No. of unique values in  coaching_licence is 44\n",
      "No. of unique values in  avg_term_as_coach is 78\n",
      "No. of unique values in  preffered_formation is 15\n",
      "No. of unique values in  current_league is 5\n",
      "No. of unique values in  current_league_country is 5\n"
     ]
    }
   ],
   "source": [
    "# Check Unique Values for each variable.\n",
    "for i in df.columns:\n",
    "  print(\"No. of unique values in \",i,\"is\", df[i].nunique())"
   ]
  },
  {
   "cell_type": "markdown",
   "id": "3d6f1db8",
   "metadata": {},
   "source": [
    "### 2.3 Data Wrangling Code\n"
   ]
  },
  {
   "cell_type": "code",
   "execution_count": 81,
   "id": "83ae070f",
   "metadata": {},
   "outputs": [
    {
     "name": "stdout",
     "output_type": "stream",
     "text": [
      "No. of coaches without a club : 13\n",
      "No. of unique nationalities : 19\n",
      "No. of coaches with UEFA Pro Licence : 40\n",
      "No. of coaches preferring 4-2-3-1 formation : 31\n",
      "No. of coaches in Serie A : 21\n"
     ]
    },
    {
     "data": {
      "text/html": [
       "<div>\n",
       "<style scoped>\n",
       "    .dataframe tbody tr th:only-of-type {\n",
       "        vertical-align: middle;\n",
       "    }\n",
       "\n",
       "    .dataframe tbody tr th {\n",
       "        vertical-align: top;\n",
       "    }\n",
       "\n",
       "    .dataframe thead th {\n",
       "        text-align: right;\n",
       "    }\n",
       "</style>\n",
       "<table border=\"1\" class=\"dataframe\">\n",
       "  <thead>\n",
       "    <tr style=\"text-align: right;\">\n",
       "      <th></th>\n",
       "      <th>name</th>\n",
       "      <th>club</th>\n",
       "      <th>birth_date</th>\n",
       "      <th>age</th>\n",
       "      <th>place_of_birth</th>\n",
       "      <th>citizenship</th>\n",
       "      <th>appointment_date</th>\n",
       "      <th>contract_until_date</th>\n",
       "      <th>coaching_licence</th>\n",
       "      <th>avg_term_as_coach</th>\n",
       "      <th>preffered_formation</th>\n",
       "      <th>current_league</th>\n",
       "      <th>current_league_country</th>\n",
       "    </tr>\n",
       "  </thead>\n",
       "  <tbody>\n",
       "    <tr>\n",
       "      <th>1</th>\n",
       "      <td>Ole Gunnar Solskjaer</td>\n",
       "      <td>Without Club</td>\n",
       "      <td>1973-02-26</td>\n",
       "      <td>48.0</td>\n",
       "      <td>Kristiansund</td>\n",
       "      <td>Norway</td>\n",
       "      <td>NaN</td>\n",
       "      <td>NaN</td>\n",
       "      <td>Jim Solbakken</td>\n",
       "      <td>2.05 Years</td>\n",
       "      <td>4-2-3-1</td>\n",
       "      <td>Premier League</td>\n",
       "      <td>England</td>\n",
       "    </tr>\n",
       "    <tr>\n",
       "      <th>4</th>\n",
       "      <td>Nuno Espírito Santo</td>\n",
       "      <td>Without Club</td>\n",
       "      <td>1974-01-25</td>\n",
       "      <td>47.0</td>\n",
       "      <td>São Tomé</td>\n",
       "      <td>Portugal</td>\n",
       "      <td>NaN</td>\n",
       "      <td>NaN</td>\n",
       "      <td>Gestifute</td>\n",
       "      <td>1.76 Years</td>\n",
       "      <td>3-4-3</td>\n",
       "      <td>Premier League</td>\n",
       "      <td>England</td>\n",
       "    </tr>\n",
       "    <tr>\n",
       "      <th>16</th>\n",
       "      <td>Daniel Farke</td>\n",
       "      <td>Without Club</td>\n",
       "      <td>1976-10-30</td>\n",
       "      <td>45.0</td>\n",
       "      <td>Steinhausen</td>\n",
       "      <td>Germany</td>\n",
       "      <td>NaN</td>\n",
       "      <td>NaN</td>\n",
       "      <td>UEFA Pro Licence</td>\n",
       "      <td>4.07 Years</td>\n",
       "      <td>4-2-3-1</td>\n",
       "      <td>Premier League</td>\n",
       "      <td>England</td>\n",
       "    </tr>\n",
       "    <tr>\n",
       "      <th>33</th>\n",
       "      <td>Luca Gotti</td>\n",
       "      <td>Without Club</td>\n",
       "      <td>1967-09-13</td>\n",
       "      <td>54.0</td>\n",
       "      <td>Adria</td>\n",
       "      <td>Italy</td>\n",
       "      <td>NaN</td>\n",
       "      <td>NaN</td>\n",
       "      <td>UEFA Pro Licence</td>\n",
       "      <td>1.31 Years</td>\n",
       "      <td>3-5-2 flat</td>\n",
       "      <td>Serie A</td>\n",
       "      <td>Italy</td>\n",
       "    </tr>\n",
       "    <tr>\n",
       "      <th>34</th>\n",
       "      <td>Davide Ballardini</td>\n",
       "      <td>Without Club</td>\n",
       "      <td>1964-01-06</td>\n",
       "      <td>58.0</td>\n",
       "      <td>Ravenna</td>\n",
       "      <td>Italy</td>\n",
       "      <td>NaN</td>\n",
       "      <td>NaN</td>\n",
       "      <td>P&amp;P Sport ...</td>\n",
       "      <td>0.96 Years</td>\n",
       "      <td>3-5-2 flat</td>\n",
       "      <td>Serie A</td>\n",
       "      <td>Italy</td>\n",
       "    </tr>\n",
       "    <tr>\n",
       "      <th>43</th>\n",
       "      <td>Ronald Koeman</td>\n",
       "      <td>Without Club</td>\n",
       "      <td>1963-03-21</td>\n",
       "      <td>58.0</td>\n",
       "      <td>Zaandam</td>\n",
       "      <td>Netherlands</td>\n",
       "      <td>NaN</td>\n",
       "      <td>NaN</td>\n",
       "      <td>Wasserman</td>\n",
       "      <td>1.65 Years</td>\n",
       "      <td>4-3-3 Attacking</td>\n",
       "      <td>La Liga</td>\n",
       "      <td>Spain</td>\n",
       "    </tr>\n",
       "    <tr>\n",
       "      <th>57</th>\n",
       "      <td>Javier Calleja</td>\n",
       "      <td>Without Club</td>\n",
       "      <td>1978-05-12</td>\n",
       "      <td>43.0</td>\n",
       "      <td>Madrid</td>\n",
       "      <td>Spain</td>\n",
       "      <td>NaN</td>\n",
       "      <td>NaN</td>\n",
       "      <td>AIS Management</td>\n",
       "      <td>1.15 Years</td>\n",
       "      <td>4-3-3 Attacking</td>\n",
       "      <td>La Liga</td>\n",
       "      <td>Spain</td>\n",
       "    </tr>\n",
       "    <tr>\n",
       "      <th>60</th>\n",
       "      <td>Fran Escribá</td>\n",
       "      <td>Without Club</td>\n",
       "      <td>1965-05-03</td>\n",
       "      <td>56.0</td>\n",
       "      <td>Valencia</td>\n",
       "      <td>Spain</td>\n",
       "      <td>NaN</td>\n",
       "      <td>NaN</td>\n",
       "      <td>Licence trainer</td>\n",
       "      <td>1.22 Years</td>\n",
       "      <td>4-4-2</td>\n",
       "      <td>La Liga</td>\n",
       "      <td>Spain</td>\n",
       "    </tr>\n",
       "    <tr>\n",
       "      <th>62</th>\n",
       "      <td>Niko Kovac</td>\n",
       "      <td>Without Club</td>\n",
       "      <td>1971-10-15</td>\n",
       "      <td>50.0</td>\n",
       "      <td>Berlin</td>\n",
       "      <td>Croatia</td>\n",
       "      <td>NaN</td>\n",
       "      <td>NaN</td>\n",
       "      <td>Alen Augustincic</td>\n",
       "      <td>1.58 Years</td>\n",
       "      <td>4-4-2 double 6</td>\n",
       "      <td>Ligue 1</td>\n",
       "      <td>France</td>\n",
       "    </tr>\n",
       "    <tr>\n",
       "      <th>78</th>\n",
       "      <td>Laurent Batlles</td>\n",
       "      <td>Without Club</td>\n",
       "      <td>1975-09-23</td>\n",
       "      <td>46.0</td>\n",
       "      <td>Nantes</td>\n",
       "      <td>France</td>\n",
       "      <td>NaN</td>\n",
       "      <td>NaN</td>\n",
       "      <td>UEFA Pro Licence</td>\n",
       "      <td>2.17 Years</td>\n",
       "      <td>3-5-2 flat</td>\n",
       "      <td>Ligue 1</td>\n",
       "      <td>France</td>\n",
       "    </tr>\n",
       "    <tr>\n",
       "      <th>80</th>\n",
       "      <td>Claude Puel</td>\n",
       "      <td>Without Club</td>\n",
       "      <td>1961-09-02</td>\n",
       "      <td>60.0</td>\n",
       "      <td>Castres</td>\n",
       "      <td>France</td>\n",
       "      <td>NaN</td>\n",
       "      <td>NaN</td>\n",
       "      <td>-</td>\n",
       "      <td>2.63 Years</td>\n",
       "      <td>4-2-3-1</td>\n",
       "      <td>Ligue 1</td>\n",
       "      <td>France</td>\n",
       "    </tr>\n",
       "    <tr>\n",
       "      <th>84</th>\n",
       "      <td>Mark van Bommel</td>\n",
       "      <td>Without Club</td>\n",
       "      <td>1977-04-22</td>\n",
       "      <td>44.0</td>\n",
       "      <td>Maasbracht</td>\n",
       "      <td>Netherlands</td>\n",
       "      <td>NaN</td>\n",
       "      <td>NaN</td>\n",
       "      <td>UEFA Pro Licence</td>\n",
       "      <td>0.93 Years</td>\n",
       "      <td>4-2-3-1</td>\n",
       "      <td>Bundesliga</td>\n",
       "      <td>Germany</td>\n",
       "    </tr>\n",
       "    <tr>\n",
       "      <th>90</th>\n",
       "      <td>Pál Dárdai</td>\n",
       "      <td>Without Club</td>\n",
       "      <td>1976-03-16</td>\n",
       "      <td>45.0</td>\n",
       "      <td>Pécs</td>\n",
       "      <td>Hungary</td>\n",
       "      <td>NaN</td>\n",
       "      <td>NaN</td>\n",
       "      <td>UEFA Pro Licence</td>\n",
       "      <td>1.37 Years</td>\n",
       "      <td>4-2-3-1</td>\n",
       "      <td>Bundesliga</td>\n",
       "      <td>Germany</td>\n",
       "    </tr>\n",
       "  </tbody>\n",
       "</table>\n",
       "</div>"
      ],
      "text/plain": [
       "                    name          club  birth_date   age place_of_birth  \\\n",
       "1   Ole Gunnar Solskjaer  Without Club  1973-02-26  48.0   Kristiansund   \n",
       "4    Nuno Espírito Santo  Without Club  1974-01-25  47.0       São Tomé   \n",
       "16          Daniel Farke  Without Club  1976-10-30  45.0    Steinhausen   \n",
       "33            Luca Gotti  Without Club  1967-09-13  54.0          Adria   \n",
       "34     Davide Ballardini  Without Club  1964-01-06  58.0        Ravenna   \n",
       "43         Ronald Koeman  Without Club  1963-03-21  58.0        Zaandam   \n",
       "57        Javier Calleja  Without Club  1978-05-12  43.0         Madrid   \n",
       "60          Fran Escribá  Without Club  1965-05-03  56.0       Valencia   \n",
       "62            Niko Kovac  Without Club  1971-10-15  50.0         Berlin   \n",
       "78       Laurent Batlles  Without Club  1975-09-23  46.0         Nantes   \n",
       "80           Claude Puel  Without Club  1961-09-02  60.0        Castres   \n",
       "84       Mark van Bommel  Without Club  1977-04-22  44.0     Maasbracht   \n",
       "90            Pál Dárdai  Without Club  1976-03-16  45.0           Pécs   \n",
       "\n",
       "    citizenship appointment_date contract_until_date  coaching_licence  \\\n",
       "1        Norway              NaN                 NaN     Jim Solbakken   \n",
       "4      Portugal              NaN                 NaN         Gestifute   \n",
       "16      Germany              NaN                 NaN  UEFA Pro Licence   \n",
       "33        Italy              NaN                 NaN  UEFA Pro Licence   \n",
       "34        Italy              NaN                 NaN     P&P Sport ...   \n",
       "43  Netherlands              NaN                 NaN         Wasserman   \n",
       "57        Spain              NaN                 NaN    AIS Management   \n",
       "60        Spain              NaN                 NaN   Licence trainer   \n",
       "62      Croatia              NaN                 NaN  Alen Augustincic   \n",
       "78       France              NaN                 NaN  UEFA Pro Licence   \n",
       "80       France              NaN                 NaN                 -   \n",
       "84  Netherlands              NaN                 NaN  UEFA Pro Licence   \n",
       "90      Hungary              NaN                 NaN  UEFA Pro Licence   \n",
       "\n",
       "   avg_term_as_coach preffered_formation  current_league  \\\n",
       "1         2.05 Years             4-2-3-1  Premier League   \n",
       "4         1.76 Years               3-4-3  Premier League   \n",
       "16        4.07 Years             4-2-3-1  Premier League   \n",
       "33        1.31 Years          3-5-2 flat         Serie A   \n",
       "34        0.96 Years          3-5-2 flat         Serie A   \n",
       "43        1.65 Years     4-3-3 Attacking         La Liga   \n",
       "57        1.15 Years     4-3-3 Attacking         La Liga   \n",
       "60        1.22 Years               4-4-2         La Liga   \n",
       "62        1.58 Years      4-4-2 double 6         Ligue 1   \n",
       "78        2.17 Years          3-5-2 flat         Ligue 1   \n",
       "80        2.63 Years             4-2-3-1         Ligue 1   \n",
       "84        0.93 Years             4-2-3-1      Bundesliga   \n",
       "90        1.37 Years             4-2-3-1      Bundesliga   \n",
       "\n",
       "   current_league_country  \n",
       "1                 England  \n",
       "4                 England  \n",
       "16                England  \n",
       "33                  Italy  \n",
       "34                  Italy  \n",
       "43                  Spain  \n",
       "57                  Spain  \n",
       "60                  Spain  \n",
       "62                 France  \n",
       "78                 France  \n",
       "80                 France  \n",
       "84                Germany  \n",
       "90                Germany  "
      ]
     },
     "execution_count": 81,
     "metadata": {},
     "output_type": "execute_result"
    }
   ],
   "source": [
    "\n",
    "#  Nombre total d'entraîneurs sans club\n",
    "print(\"No. of coaches without a club :\", df[df['club'] == 'Without Club'].club.count())\n",
    "\n",
    "# Extraction des entraîneurs sans club\n",
    "without_club_df = df[df['club'] == 'Without Club']\n",
    "\n",
    "# Nombre total de nationalités uniques\n",
    "print(\"No. of unique nationalities :\", df['citizenship'].nunique())\n",
    "\n",
    "# Nombre d'entraîneurs avec une licence UEFA Pro\n",
    "print(\"No. of coaches with UEFA Pro Licence :\", df[df['coaching_licence'] == 'UEFA Pro Licence']['coaching_licence'].count())\n",
    "\n",
    "# Nombre d'entraîneurs préférant la formation 4-2-3-1\n",
    "print(\"No. of coaches preferring 4-2-3-1 formation :\", df[df['preffered_formation'] == '4-2-3-1']['preffered_formation'].count())\n",
    "\n",
    "#  Extraction des entraîneurs de Serie A\n",
    "serie_a_coaches = df[df['current_league'] == 'Serie A']\n",
    "print(\"No. of coaches in Serie A :\", serie_a_coaches.shape[0])\n",
    "\n",
    "# Afficher le DataFrame des entraîneurs sans club\n",
    "without_club_df\n"
   ]
  },
  {
   "cell_type": "code",
   "execution_count": null,
   "id": "1148aa7b",
   "metadata": {},
   "outputs": [
    {
     "name": "stdout",
     "output_type": "stream",
     "text": [
      "Total no. of coaches : 99\n",
      "Percentage of coaches without a club : 13.13%\n"
     ]
    }
   ],
   "source": [
    "\n",
    "#  Nombre total d'entraîneurs\n",
    "total_coaches = df.shape[0]\n",
    "print(\"Total no. of coaches :\", total_coaches)\n",
    "\n",
    "# Nombre total d'entraîneurs sans club\n",
    "without_club_count = df[df['club'] == 'Without Club'].shape[0]\n",
    "\n",
    "# Calcul du pourcentage d'entraîneurs sans club\n",
    "perc_without_club = (without_club_count / total_coaches) * 100\n",
    "print(f\"Percentage of coaches without a club : {round(perc_without_club, 2)}%\")"
   ]
  },
  {
   "cell_type": "code",
   "execution_count": null,
   "id": "902f314e",
   "metadata": {},
   "outputs": [
    {
     "data": {
      "text/html": [
       "<div>\n",
       "<style scoped>\n",
       "    .dataframe tbody tr th:only-of-type {\n",
       "        vertical-align: middle;\n",
       "    }\n",
       "\n",
       "    .dataframe tbody tr th {\n",
       "        vertical-align: top;\n",
       "    }\n",
       "\n",
       "    .dataframe thead th {\n",
       "        text-align: right;\n",
       "    }\n",
       "</style>\n",
       "<table border=\"1\" class=\"dataframe\">\n",
       "  <thead>\n",
       "    <tr style=\"text-align: right;\">\n",
       "      <th></th>\n",
       "      <th>citizenship</th>\n",
       "      <th>Unique leagues</th>\n",
       "    </tr>\n",
       "  </thead>\n",
       "  <tbody>\n",
       "    <tr>\n",
       "      <th>0</th>\n",
       "      <td>Croatia</td>\n",
       "      <td>[Ligue 1]</td>\n",
       "    </tr>\n",
       "    <tr>\n",
       "      <th>1</th>\n",
       "      <td>France</td>\n",
       "      <td>[Ligue 1]</td>\n",
       "    </tr>\n",
       "    <tr>\n",
       "      <th>2</th>\n",
       "      <td>Germany</td>\n",
       "      <td>[Premier League]</td>\n",
       "    </tr>\n",
       "    <tr>\n",
       "      <th>3</th>\n",
       "      <td>Hungary</td>\n",
       "      <td>[Bundesliga]</td>\n",
       "    </tr>\n",
       "    <tr>\n",
       "      <th>4</th>\n",
       "      <td>Italy</td>\n",
       "      <td>[Serie A]</td>\n",
       "    </tr>\n",
       "    <tr>\n",
       "      <th>5</th>\n",
       "      <td>Netherlands</td>\n",
       "      <td>[La Liga, Bundesliga]</td>\n",
       "    </tr>\n",
       "    <tr>\n",
       "      <th>6</th>\n",
       "      <td>Norway</td>\n",
       "      <td>[Premier League]</td>\n",
       "    </tr>\n",
       "    <tr>\n",
       "      <th>7</th>\n",
       "      <td>Portugal</td>\n",
       "      <td>[Premier League]</td>\n",
       "    </tr>\n",
       "    <tr>\n",
       "      <th>8</th>\n",
       "      <td>Spain</td>\n",
       "      <td>[La Liga]</td>\n",
       "    </tr>\n",
       "  </tbody>\n",
       "</table>\n",
       "</div>"
      ],
      "text/plain": [
       "   citizenship         Unique leagues\n",
       "0      Croatia              [Ligue 1]\n",
       "1       France              [Ligue 1]\n",
       "2      Germany       [Premier League]\n",
       "3      Hungary           [Bundesliga]\n",
       "4        Italy              [Serie A]\n",
       "5  Netherlands  [La Liga, Bundesliga]\n",
       "6       Norway       [Premier League]\n",
       "7     Portugal       [Premier League]\n",
       "8        Spain              [La Liga]"
      ]
     },
     "execution_count": 83,
     "metadata": {},
     "output_type": "execute_result"
    }
   ],
   "source": [
    "\n",
    "# Regrouper les entraîneurs sans club par nationalité et afficher les ligues uniques\n",
    "country_league_churn = df[df['club'] == 'Without Club'].groupby(['citizenship'])['current_league'].unique().reset_index(name='Unique leagues')\n",
    "\n",
    "# Affichage du DataFrame\n",
    "country_league_churn"
   ]
  },
  {
   "cell_type": "markdown",
   "id": "3f2b8580",
   "metadata": {},
   "source": [
    "## ***2.4 Data Vizualization***\n"
   ]
  },
  {
   "cell_type": "code",
   "execution_count": 84,
   "id": "1fb48a1e",
   "metadata": {},
   "outputs": [
    {
     "name": "stdout",
     "output_type": "stream",
     "text": [
      "club\n",
      "With Club       86\n",
      "Without Club    13\n",
      "Name: count, dtype: int64\n",
      " \n"
     ]
    },
    {
     "data": {
      "image/png": "[encoded data removed]",
      "text/plain": [
       "<Figure size 400x400 with 1 Axes>"
      ]
     },
     "metadata": {},
     "output_type": "display_data"
    }
   ],
   "source": [
    "#  Comptage des entraîneurs avec et sans club\n",
    "club_status_counts = df['club'].apply(lambda x: 'Without Club' if x == 'Without Club' else 'With Club').value_counts()\n",
    "print(club_status_counts)\n",
    "print(\" \")\n",
    "\n",
    "#  Visualisation en graphique circulaire\n",
    "plt.figure(figsize=(4,4))\n",
    "club_status_counts.plot(kind='pie', \n",
    "                        autopct=\"%1.1f%%\", \n",
    "                        startangle=50, \n",
    "                        shadow=True, \n",
    "                        labels=['With Club', 'Without Club'], \n",
    "                        colors=['green', 'red'], \n",
    "                        explode=[0, 0.12])\n",
    "\n",
    "plt.title('Total Percentage of Coaches Without Club')\n",
    "plt.show()"
   ]
  },
  {
   "cell_type": "markdown",
   "id": "f242184d",
   "metadata": {},
   "source": [
    "# **3. Data Preparation**"
   ]
  },
  {
   "cell_type": "markdown",
   "id": "4c22cc0e",
   "metadata": {},
   "source": [
    "**Handeling Outliers**"
   ]
  },
  {
   "cell_type": "code",
   "execution_count": 88,
   "id": "7f093311",
   "metadata": {},
   "outputs": [],
   "source": [
    "def handle_outliers_all_columns(df, method='remove', multiplier=1.5, max_iter=3):\n",
    "    df_cleaned = df.copy()  # Avoid modifying the original DataFrame\n",
    "    numerical_cols = df_cleaned.select_dtypes(include=['number']).columns\n",
    "\n",
    "    for _ in range(max_iter):  # Apply the process iteratively\n",
    "        for col in numerical_cols:\n",
    "            Q1 = df_cleaned[col].quantile(0.25)\n",
    "            Q3 = df_cleaned[col].quantile(0.75)\n",
    "            IQR = Q3 - Q1\n",
    "            lower_bound = Q1 - multiplier * IQR\n",
    "            upper_bound = Q3 + multiplier * IQR\n",
    "\n",
    "            if method == 'remove':\n",
    "                df_cleaned = df_cleaned[(df_cleaned[col] >= lower_bound) & (df_cleaned[col] <= upper_bound)]\n",
    "            elif method == 'replace':\n",
    "                median = df_cleaned[col].median()\n",
    "                df_cleaned[col] = np.where(\n",
    "                    (df_cleaned[col] < lower_bound) | (df_cleaned[col] > upper_bound),\n",
    "                    median,\n",
    "                    df_cleaned[col]\n",
    "                )\n",
    "            elif method == 'cap':\n",
    "                df_cleaned[col] = np.clip(df_cleaned[col], lower_bound, upper_bound)\n",
    "            else:\n",
    "                raise ValueError(\"Method must be 'remove', 'replace', or 'cap'.\")\n",
    "\n",
    "        # Check for convergence: Break if no more outliers\n",
    "        if all(\n",
    "            (df_cleaned[col] >= (df_cleaned[col].quantile(0.25) - multiplier * IQR)).all() and\n",
    "            (df_cleaned[col] <= (df_cleaned[col].quantile(0.75) + multiplier * IQR)).all()\n",
    "            for col in numerical_cols\n",
    "        ):\n",
    "            break\n",
    "\n",
    "    return df_cleaned"
   ]
  },
  {
   "cell_type": "code",
   "execution_count": 89,
   "id": "071b3a9b",
   "metadata": {},
   "outputs": [
    {
     "data": {
      "image/png": "[encoded data removed]",
      "text/plain": [
       "<Figure size 800x400 with 1 Axes>"
      ]
     },
     "metadata": {},
     "output_type": "display_data"
    },
    {
     "data": {
      "image/png": "[encoded data removed]",
      "text/plain": [
       "<Figure size 800x400 with 1 Axes>"
      ]
     },
     "metadata": {},
     "output_type": "display_data"
    }
   ],
   "source": [
    "# Clean the DataFrame with stricter bounds\n",
    "df_cleaned = handle_outliers_all_columns(df, method='replace', multiplier=1.2, max_iter=5)\n",
    "\n",
    "# Visualize the results with boxplots\n",
    "for col in df_cleaned.select_dtypes(include='number').columns:\n",
    "    plt.figure(figsize=(8, 4))\n",
    "    sns.boxplot(x=df_cleaned[col], orient='h', showmeans=True, color='pink')\n",
    "    plt.title(f\"Boxplot for {col} After Handling Outliers\")\n",
    "    plt.xlabel(col)\n",
    "    plt.show()"
   ]
  },
  {
   "cell_type": "code",
   "execution_count": 90,
   "id": "aae7fb5e",
   "metadata": {},
   "outputs": [],
   "source": [
    "# Suppression des doublons\n",
    "df.drop_duplicates(inplace=True)"
   ]
  }
 ],
 "metadata": {
  "kernelspec": {
   "display_name": "base",
   "language": "python",
   "name": "python3"
  },
  "language_info": {
   "codemirror_mode": {
    "name": "ipython",
    "version": 3
   },
   "file_extension": ".py",
   "mimetype": "text/x-python",
   "name": "python",
   "nbconvert_exporter": "python",
   "pygments_lexer": "ipython3",
   "version": "3.11.5"
  }
 },
 "nbformat": 4,
 "nbformat_minor": 5
}
